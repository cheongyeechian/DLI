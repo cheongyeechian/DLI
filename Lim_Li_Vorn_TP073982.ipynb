{
  "nbformat": 4,
  "nbformat_minor": 0,
  "metadata": {
    "colab": {
      "provenance": [],
      "gpuType": "T4"
    },
    "kernelspec": {
      "name": "python3",
      "display_name": "Python 3"
    },
    "language_info": {
      "name": "python"
    },
    "accelerator": "GPU"
  },
  "cells": [
    {
      "cell_type": "code",
      "source": [
        "!pip -q install -U transformers accelerate scikit-learn matplotlib\n",
        "\n",
        "import os, re, time, random, gc, math\n",
        "import numpy as np\n",
        "import pandas as pd\n",
        "import matplotlib.pyplot as plt\n",
        "\n",
        "import torch\n",
        "import torch.nn as nn\n",
        "from torch.utils.data import Dataset, DataLoader\n",
        "\n",
        "from transformers import BertTokenizer, BertConfig, BertModel, get_linear_schedule_with_warmup\n",
        "from sklearn.model_selection import train_test_split\n",
        "from sklearn.metrics import (accuracy_score, precision_recall_fscore_support,\n",
        "                             roc_auc_score, confusion_matrix, ConfusionMatrixDisplay,\n",
        "                             roc_curve)"
      ],
      "metadata": {
        "id": "1a3E4cX-jwAj"
      },
      "execution_count": 17,
      "outputs": []
    },
    {
      "cell_type": "code",
      "source": [
        "# ------------------------------------------------------------\n",
        "# [0] Colab: mount Google Drive\n",
        "# ------------------------------------------------------------\n",
        "try:\n",
        "    from google.colab import drive\n",
        "    drive.mount('/content/drive')\n",
        "    IN_COLAB = True\n",
        "except Exception:\n",
        "    IN_COLAB = False\n"
      ],
      "metadata": {
        "colab": {
          "base_uri": "https://localhost:8080/"
        },
        "id": "1PtIG8M-kH9D",
        "outputId": "ba740f27-fb0c-4060-c306-45f3260259a2"
      },
      "execution_count": 18,
      "outputs": [
        {
          "output_type": "stream",
          "name": "stdout",
          "text": [
            "Drive already mounted at /content/drive; to attempt to forcibly remount, call drive.mount(\"/content/drive\", force_remount=True).\n"
          ]
        }
      ]
    },
    {
      "cell_type": "code",
      "source": [
        "# ------------------------------------------------------------\n",
        "# [1] CONFIG — set your paths\n",
        "#    Put these three files in Drive and update the paths below.\n",
        "# ------------------------------------------------------------\n",
        "CSV_PATH     = \"/content/drive/My Drive/DLI Assignment/group_dataset.csv\"  # your dataset\n",
        "VOCAB_TXT    = \"/content/drive/My Drive/DLI Assignment/vocab.txt\"          # your tokenizer vocab\n",
        "URLBERT_PT   = \"/content/drive/My Drive/DLI Assignment/urlBERT.pt\"         # your encoder weights\n",
        "\n",
        "# Training & model hyperparams\n",
        "SEED         = 2025\n",
        "MAX_LEN      = 128\n",
        "BATCH_SIZE   = 64\n",
        "EPOCHS       = 3\n",
        "LR           = 2e-5\n",
        "WARMUP_RATIO = 0.1\n",
        "WEIGHT_DECAY = 0.01\n",
        "DROPOUT      = 0.2\n",
        "KERNEL_SIZES = (2,3,4)\n",
        "NUM_FILTERS  = 128\n",
        "\n",
        "DEVICE = \"cuda\" if torch.cuda.is_available() else \"cpu\"\n",
        "print(f\"Device: {DEVICE}\")"
      ],
      "metadata": {
        "colab": {
          "base_uri": "https://localhost:8080/"
        },
        "id": "9pBbuhQKkMzg",
        "outputId": "675b354e-71a1-491b-bdbb-be9a2d83c9f2"
      },
      "execution_count": 19,
      "outputs": [
        {
          "output_type": "stream",
          "name": "stdout",
          "text": [
            "Device: cuda\n"
          ]
        }
      ]
    },
    {
      "cell_type": "code",
      "source": [
        "# ------------------------------------------------------------\n",
        "# [2] Reproducibility\n",
        "# ------------------------------------------------------------\n",
        "def set_seed(seed=SEED):\n",
        "    random.seed(seed); np.random.seed(seed)\n",
        "    torch.manual_seed(seed); torch.cuda.manual_seed_all(seed)\n",
        "    torch.backends.cudnn.deterministic = True\n",
        "    torch.backends.cudnn.benchmark = False\n",
        "set_seed(SEED)"
      ],
      "metadata": {
        "id": "G8IfK3HGkevv"
      },
      "execution_count": 20,
      "outputs": []
    },
    {
      "cell_type": "code",
      "source": [
        "# ------------------------------------------------------------\n",
        "# [3] Load dataset (flexible column detection)\n",
        "#     (now recognizes 'status' as the label column)\n",
        "# ------------------------------------------------------------\n",
        "assert os.path.exists(CSV_PATH), f\"CSV not found at {CSV_PATH}\"\n",
        "df = pd.read_csv(CSV_PATH)\n",
        "print(\"Loaded CSV columns:\", list(df.columns))\n",
        "\n",
        "URL_CANDS   = [\"url\",\"URL\",\"Url\",\"u\",\"link\",\"raw_url\",\"text\",\"domain\"]\n",
        "# Added 'status' variants here:\n",
        "LABEL_CANDS = [\"status\",\"Status\",\"STATUS\",\n",
        "               \"label\",\"Label\",\"labels\",\"target\",\"y\",\"class\",\"type\",\"is_phishing\",\"result\"]\n",
        "\n",
        "def pick_col(df, cands):\n",
        "    cols_lower = {c.lower(): c for c in df.columns}\n",
        "    for c in cands:\n",
        "        if c in df.columns: return c\n",
        "        if c.lower() in cols_lower: return cols_lower[c.lower()]\n",
        "    raise ValueError(f\"Cannot find any of {cands}. Found: {df.columns[:10]} ...\")\n",
        "\n",
        "def normalize_url(u):\n",
        "    import re\n",
        "    if not isinstance(u, str): u = str(u)\n",
        "    u = u.strip().replace(\"\\\\\",\"/\")\n",
        "    u = re.sub(r\"\\s+\",\"\", u)\n",
        "    u = re.sub(r\"^https?://\", \"\", u, flags=re.IGNORECASE)\n",
        "    return u[:2048]\n",
        "\n",
        "STRING_TO_INT = {\n",
        "    \"phishing\":1, \"spam\":1, \"bad\":1, \"malicious\":1, \"malware\":1, \"1\":1, \"true\":1,\n",
        "    \"benign\":0, \"legitimate\":0, \"good\":0, \"clean\":0, \"safe\":0, \"0\":0, \"false\":0\n",
        "}\n",
        "def to_label(x):\n",
        "    import numpy as np\n",
        "    if isinstance(x, (int,np.integer,float,np.floating)):\n",
        "        return int(x)\n",
        "    s = str(x).strip().lower()\n",
        "    if s in STRING_TO_INT: return int(STRING_TO_INT[s])\n",
        "    # default: anything not clearly benign -> phishing (1)\n",
        "    return 1 if s not in (\"0\",\"benign\",\"legitimate\",\"good\",\"clean\",\"safe\",\"false\") else 0\n",
        "\n",
        "u_col = pick_col(df, URL_CANDS)\n",
        "y_col = pick_col(df, LABEL_CANDS)   # <- will pick 'status' now\n",
        "\n",
        "# Keep only URL text + label for this urlBERT+CNN approach\n",
        "df[u_col] = df[u_col].astype(str).map(normalize_url)\n",
        "df[y_col] = df[y_col].map(to_label).astype(int)\n",
        "df = df.dropna(subset=[u_col, y_col]).reset_index(drop=True)\n",
        "\n",
        "print(\"Label distribution:\\n\", df[y_col].value_counts(dropna=False))\n",
        "print(df[[u_col, y_col]].head(3))\n",
        "\n",
        "from sklearn.model_selection import train_test_split\n",
        "X_train, X_test, y_train, y_test = train_test_split(\n",
        "    df[u_col].values, df[y_col].values,\n",
        "    test_size=0.20, random_state=SEED, stratify=df[y_col].values\n",
        ")\n"
      ],
      "metadata": {
        "colab": {
          "base_uri": "https://localhost:8080/"
        },
        "id": "qdZxtr0j4sHh",
        "outputId": "af788f1b-7489-4296-c896-1e202c3bd45f"
      },
      "execution_count": 21,
      "outputs": [
        {
          "output_type": "stream",
          "name": "stdout",
          "text": [
            "Loaded CSV columns: ['url', 'length_url', 'length_hostname', 'ip', 'nb_dots', 'nb_hyphens', 'nb_at', 'nb_qm', 'nb_and', 'nb_or', 'nb_eq', 'nb_underscore', 'nb_tilde', 'nb_percent', 'nb_slash', 'nb_star', 'nb_colon', 'nb_comma', 'nb_semicolumn', 'nb_dollar', 'nb_space', 'nb_www', 'nb_com', 'nb_dslash', 'http_in_path', 'https_token', 'ratio_digits_url', 'ratio_digits_host', 'punycode', 'port', 'tld_in_path', 'tld_in_subdomain', 'abnormal_subdomain', 'nb_subdomains', 'prefix_suffix', 'random_domain', 'shortening_service', 'path_extension', 'nb_redirection', 'nb_external_redirection', 'length_words_raw', 'char_repeat', 'shortest_words_raw', 'shortest_word_host', 'shortest_word_path', 'longest_words_raw', 'longest_word_host', 'longest_word_path', 'avg_words_raw', 'avg_word_host', 'avg_word_path', 'phish_hints', 'domain_in_brand', 'brand_in_subdomain', 'brand_in_path', 'suspecious_tld', 'statistical_report', 'nb_hyperlinks', 'ratio_intHyperlinks', 'ratio_extHyperlinks', 'ratio_nullHyperlinks', 'nb_extCSS', 'ratio_intRedirection', 'ratio_extRedirection', 'ratio_intErrors', 'ratio_extErrors', 'login_form', 'external_favicon', 'links_in_tags', 'submit_email', 'ratio_intMedia', 'ratio_extMedia', 'sfh', 'iframe', 'popup_window', 'safe_anchor', 'onmouseover', 'right_clic', 'empty_title', 'domain_in_title', 'domain_with_copyright', 'whois_registered_domain', 'domain_registration_length', 'domain_age', 'web_traffic', 'dns_record', 'google_index', 'page_rank', 'status']\n",
            "Label distribution:\n",
            " status\n",
            "0    5715\n",
            "1    5715\n",
            "Name: count, dtype: int64\n",
            "                                                 url  status\n",
            "0                     www.crestonwood.com/router.php       0\n",
            "1  shadetreetechnology.com/V4/validation/a111aedc...       1\n",
            "2  support-appleld.com.secureupdate.duilawyeryork...       1\n"
          ]
        }
      ]
    },
    {
      "cell_type": "code",
      "source": [
        "# ------------------------------------------------------------\n",
        "# [4] Tokenizer: use YOUR vocab.txt\n",
        "# ------------------------------------------------------------\n",
        "assert os.path.exists(VOCAB_TXT), f\"vocab.txt not found at {VOCAB_TXT}\"\n",
        "tokenizer = BertTokenizer(vocab_file=VOCAB_TXT, do_lower_case=True, tokenize_chinese_chars=False, strip_accents=False)\n",
        "VOCAB_SIZE = len(tokenizer)\n",
        "print(\"Vocab size:\", VOCAB_SIZE)\n",
        "\n",
        "class UrlDataset(Dataset):\n",
        "    def __init__(self, txts, labels=None, max_len=MAX_LEN):\n",
        "        self.txts = list(txts)\n",
        "        self.labels = None if labels is None else list(labels)\n",
        "        self.max_len = max_len\n",
        "    def __len__(self): return len(self.txts)\n",
        "    def __getitem__(self, idx):\n",
        "        enc = tokenizer(\n",
        "            self.txts[idx],\n",
        "            padding=\"max_length\",\n",
        "            truncation=True,\n",
        "            max_length=self.max_len,\n",
        "            return_tensors=\"pt\"\n",
        "        )\n",
        "        item = {k: v.squeeze(0) for k,v in enc.items()}\n",
        "        if self.labels is not None:\n",
        "            item[\"labels\"] = torch.tensor(self.labels[idx], dtype=torch.long)\n",
        "        return item\n",
        "\n",
        "train_ds = UrlDataset(X_train, y_train)\n",
        "test_ds  = UrlDataset(X_test, y_test)\n",
        "train_loader = DataLoader(train_ds, batch_size=BATCH_SIZE, shuffle=True, num_workers=2, pin_memory=True)\n",
        "test_loader  = DataLoader(test_ds, batch_size=BATCH_SIZE, shuffle=False, num_workers=2, pin_memory=True)\n"
      ],
      "metadata": {
        "colab": {
          "base_uri": "https://localhost:8080/"
        },
        "id": "ThcaKounki1D",
        "outputId": "4b2b175f-9ec6-4a30-a6c9-3d0619bc949b"
      },
      "execution_count": 22,
      "outputs": [
        {
          "output_type": "stream",
          "name": "stdout",
          "text": [
            "Vocab size: 5000\n"
          ]
        }
      ]
    },
    {
      "cell_type": "code",
      "source": [
        "# ------------------------------------------------------------\n",
        "# [5] Build urlBERT encoder from config that matches your vocab,\n",
        "#     then load YOUR weights (urlBERT.pt)\n",
        "# ------------------------------------------------------------\n",
        "assert os.path.exists(URLBERT_PT), f\"urlBERT.pt not found at {URLBERT_PT}\"\n",
        "\n",
        "# Assume a BERT-base style config; adjust if your weights differ.\n",
        "config = BertConfig(\n",
        "    vocab_size=VOCAB_SIZE,\n",
        "    hidden_size=768,\n",
        "    num_hidden_layers=12,\n",
        "    num_attention_heads=12,\n",
        "    intermediate_size=3072,\n",
        "    max_position_embeddings=512,\n",
        "    type_vocab_size=2,\n",
        ")\n",
        "encoder = BertModel(config)\n",
        "\n",
        "# Load state dict safely\n",
        "sd = torch.load(URLBERT_PT, map_location=\"cpu\")\n",
        "if isinstance(sd, dict) and \"state_dict\" in sd:\n",
        "    sd = sd[\"state_dict\"]\n",
        "# strip potential prefixes like \"module.\"\n",
        "sd = {k.replace(\"module.\", \"\"): v for k,v in sd.items()}\n",
        "\n",
        "missing, unexpected = encoder.load_state_dict(sd, strict=False)\n",
        "print(f\"Loaded urlBERT.pt with strict=False | missing={len(missing)} unexpected={len(unexpected)}\")\n",
        "if len(missing) > 0:\n",
        "    print(\"Note: Some keys were missing; continuing with partially loaded weights.\")\n",
        "\n",
        "encoder = encoder.to(DEVICE)\n"
      ],
      "metadata": {
        "colab": {
          "base_uri": "https://localhost:8080/"
        },
        "id": "oUSjS-5a4z3f",
        "outputId": "4f04129f-86fd-406a-a60e-8977188fc504"
      },
      "execution_count": 23,
      "outputs": [
        {
          "output_type": "stream",
          "name": "stdout",
          "text": [
            "Loaded urlBERT.pt with strict=False | missing=199 unexpected=204\n",
            "Note: Some keys were missing; continuing with partially loaded weights.\n"
          ]
        }
      ]
    },
    {
      "cell_type": "code",
      "source": [
        "# ------------------------------------------------------------\n",
        "# [6] CNN head on top of BERT token sequence (urlBERTcnn)\n",
        "# ------------------------------------------------------------\n",
        "class UrlBertCNN(nn.Module):\n",
        "    def __init__(self, encoder, num_labels=2, dropout=DROPOUT,\n",
        "                 kernel_sizes=KERNEL_SIZES, num_filters=NUM_FILTERS):\n",
        "        super().__init__()\n",
        "        self.encoder = encoder\n",
        "        hidden = encoder.config.hidden_size\n",
        "        self.convs = nn.ModuleList([\n",
        "            nn.Conv1d(in_channels=hidden, out_channels=num_filters, kernel_size=k)\n",
        "            for k in kernel_sizes\n",
        "        ])\n",
        "        self.dropout = nn.Dropout(dropout)\n",
        "        self.classifier = nn.Linear(num_filters * len(kernel_sizes), num_labels)\n",
        "\n",
        "    def forward(self, input_ids, attention_mask, labels=None):\n",
        "        out = self.encoder(input_ids=input_ids, attention_mask=attention_mask)\n",
        "        # last_hidden_state: (B, L, H)\n",
        "        x = out.last_hidden_state.permute(0, 2, 1)         # (B, H, L)\n",
        "        pooled = []\n",
        "        for conv in self.convs:\n",
        "            z = torch.relu(conv(x))                        # (B, C, L')\n",
        "            z = torch.max(z, dim=2).values                 # global max pool -> (B, C)\n",
        "            pooled.append(z)\n",
        "        feat = torch.cat(pooled, dim=1)                    # (B, C * len(k))\n",
        "        feat = self.dropout(feat)\n",
        "        logits = self.classifier(feat)                     # (B, num_labels)\n",
        "        if labels is not None:\n",
        "            loss = nn.CrossEntropyLoss()(logits, labels)\n",
        "            return loss, logits\n",
        "        return logits\n",
        "\n",
        "model = UrlBertCNN(encoder=encoder).to(DEVICE)\n"
      ],
      "metadata": {
        "id": "c1A1QTeV43CC"
      },
      "execution_count": 24,
      "outputs": []
    },
    {
      "cell_type": "code",
      "source": [
        "# ------------------------------------------------------------\n",
        "# [7] Optimizer & scheduler\n",
        "# ------------------------------------------------------------\n",
        "total_steps  = max(1, len(train_loader) * EPOCHS)\n",
        "warmup_steps = int(total_steps * WARMUP_RATIO)\n",
        "\n",
        "optimizer = torch.optim.AdamW(model.parameters(), lr=LR, weight_decay=WEIGHT_DECAY)\n",
        "scheduler = get_linear_schedule_with_warmup(optimizer, num_warmup_steps=warmup_steps, num_training_steps=total_steps)\n",
        "scaler = torch.cuda.amp.GradScaler(enabled=torch.cuda.is_available())\n"
      ],
      "metadata": {
        "colab": {
          "base_uri": "https://localhost:8080/"
        },
        "id": "tbzvPoqX449H",
        "outputId": "7378262d-70eb-4c44-b719-f4b340bee5d4"
      },
      "execution_count": 25,
      "outputs": [
        {
          "output_type": "stream",
          "name": "stderr",
          "text": [
            "/tmp/ipython-input-1076621507.py:9: FutureWarning: `torch.cuda.amp.GradScaler(args...)` is deprecated. Please use `torch.amp.GradScaler('cuda', args...)` instead.\n",
            "  scaler = torch.cuda.amp.GradScaler(enabled=torch.cuda.is_available())\n"
          ]
        }
      ]
    },
    {
      "cell_type": "code",
      "source": [
        "# ------------------------------------------------------------\n",
        "# [8] Train\n",
        "# ------------------------------------------------------------\n",
        "def eval_loader(loader):\n",
        "    model.eval()\n",
        "    all_probs, all_preds, all_labels = [], [], []\n",
        "    with torch.no_grad():\n",
        "        for batch in loader:\n",
        "            ids  = batch[\"input_ids\"].to(DEVICE, non_blocking=True)\n",
        "            attn = batch[\"attention_mask\"].to(DEVICE, non_blocking=True)\n",
        "            lbls = batch.get(\"labels\")\n",
        "            if lbls is not None:\n",
        "                lbls = lbls.to(DEVICE, non_blocking=True)\n",
        "            with torch.cuda.amp.autocast(enabled=torch.cuda.is_available()):\n",
        "                logits = model(ids, attn)\n",
        "            probs = torch.softmax(logits, dim=1)[:,1].detach().cpu().numpy()\n",
        "            preds = (probs >= 0.5).astype(int)\n",
        "            all_probs.extend(probs.tolist())\n",
        "            all_preds.extend(preds.tolist())\n",
        "            if lbls is not None:\n",
        "                all_labels.extend(lbls.detach().cpu().numpy().tolist())\n",
        "    return np.array(all_probs), np.array(all_preds), (None if not all_labels else np.array(all_labels))\n",
        "\n",
        "start = time.time()\n",
        "best_acc, best_state = -1.0, None\n",
        "\n",
        "for ep in range(1, EPOCHS+1):\n",
        "    model.train()\n",
        "    run_loss = 0.0\n",
        "    for batch in train_loader:\n",
        "        optimizer.zero_grad(set_to_none=True)\n",
        "        ids  = batch[\"input_ids\"].to(DEVICE, non_blocking=True)\n",
        "        attn = batch[\"attention_mask\"].to(DEVICE, non_blocking=True)\n",
        "        lbls = batch[\"labels\"].to(DEVICE, non_blocking=True)\n",
        "\n",
        "        with torch.cuda.amp.autocast(enabled=torch.cuda.is_available()):\n",
        "            loss, _ = model(ids, attn, lbls)\n",
        "\n",
        "        scaler.scale(loss).backward()\n",
        "        scaler.step(optimizer)\n",
        "        scaler.update()\n",
        "        scheduler.step()\n",
        "        run_loss += loss.item()\n",
        "\n",
        "    # quick validation on held-out test split\n",
        "    probs, preds, labels = eval_loader(test_loader)\n",
        "    acc = accuracy_score(labels, preds)\n",
        "    print(f\"Epoch {ep}/{EPOCHS} | train_loss={run_loss/len(train_loader):.4f} | val_acc={acc:.4f}\")\n",
        "\n",
        "    if acc > best_acc:\n",
        "        best_acc = acc\n",
        "        best_state = {k: v.cpu() for k,v in model.state_dict().items()}\n",
        "\n",
        "# Load best\n",
        "if best_state is not None:\n",
        "    model.load_state_dict({k: v.to(DEVICE) for k,v in best_state.items()})\n",
        "\n",
        "train_time = time.time() - start\n",
        "print(f\"\\n[Training time] {train_time:.1f} seconds\")\n"
      ],
      "metadata": {
        "colab": {
          "base_uri": "https://localhost:8080/"
        },
        "id": "0ohUoYCE47KR",
        "outputId": "eb5d6d90-f89e-4138-aec5-af503fe63537"
      },
      "execution_count": 26,
      "outputs": [
        {
          "output_type": "stream",
          "name": "stderr",
          "text": [
            "/tmp/ipython-input-2559748218.py:36: FutureWarning: `torch.cuda.amp.autocast(args...)` is deprecated. Please use `torch.amp.autocast('cuda', args...)` instead.\n",
            "  with torch.cuda.amp.autocast(enabled=torch.cuda.is_available()):\n",
            "/tmp/ipython-input-2559748218.py:14: FutureWarning: `torch.cuda.amp.autocast(args...)` is deprecated. Please use `torch.amp.autocast('cuda', args...)` instead.\n",
            "  with torch.cuda.amp.autocast(enabled=torch.cuda.is_available()):\n"
          ]
        },
        {
          "output_type": "stream",
          "name": "stdout",
          "text": [
            "Epoch 1/3 | train_loss=0.5314 | val_acc=0.8123\n"
          ]
        },
        {
          "output_type": "stream",
          "name": "stderr",
          "text": [
            "/tmp/ipython-input-2559748218.py:36: FutureWarning: `torch.cuda.amp.autocast(args...)` is deprecated. Please use `torch.amp.autocast('cuda', args...)` instead.\n",
            "  with torch.cuda.amp.autocast(enabled=torch.cuda.is_available()):\n",
            "/tmp/ipython-input-2559748218.py:14: FutureWarning: `torch.cuda.amp.autocast(args...)` is deprecated. Please use `torch.amp.autocast('cuda', args...)` instead.\n",
            "  with torch.cuda.amp.autocast(enabled=torch.cuda.is_available()):\n"
          ]
        },
        {
          "output_type": "stream",
          "name": "stdout",
          "text": [
            "Epoch 2/3 | train_loss=0.3017 | val_acc=0.8933\n"
          ]
        },
        {
          "output_type": "stream",
          "name": "stderr",
          "text": [
            "/tmp/ipython-input-2559748218.py:36: FutureWarning: `torch.cuda.amp.autocast(args...)` is deprecated. Please use `torch.amp.autocast('cuda', args...)` instead.\n",
            "  with torch.cuda.amp.autocast(enabled=torch.cuda.is_available()):\n",
            "/tmp/ipython-input-2559748218.py:14: FutureWarning: `torch.cuda.amp.autocast(args...)` is deprecated. Please use `torch.amp.autocast('cuda', args...)` instead.\n",
            "  with torch.cuda.amp.autocast(enabled=torch.cuda.is_available()):\n"
          ]
        },
        {
          "output_type": "stream",
          "name": "stdout",
          "text": [
            "Epoch 3/3 | train_loss=0.2237 | val_acc=0.9011\n",
            "\n",
            "[Training time] 153.6 seconds\n"
          ]
        }
      ]
    },
    {
      "cell_type": "code",
      "source": [
        "# ------------------------------------------------------------\n",
        "# [9] Final evaluation\n",
        "# ------------------------------------------------------------\n",
        "probs, preds, labels = eval_loader(test_loader)\n",
        "\n",
        "acc = accuracy_score(labels, preds)\n",
        "prec, rec, f1, _ = precision_recall_fscore_support(labels, preds, average=\"binary\", zero_division=0)\n",
        "try:\n",
        "    auc = roc_auc_score(labels, probs)\n",
        "except Exception:\n",
        "    auc = float(\"nan\")\n",
        "\n",
        "print(\"\\n=== FINAL TEST METRICS (group_dataset) ===\")\n",
        "print(f\"Acc: {acc:.6f}\")\n",
        "print(f\"AUC: {auc:.6f}\")\n",
        "print(f\"Rec: {rec:.6f}\")\n",
        "print(f\"F1 : {f1:.6f}\")\n",
        "\n",
        "cm = confusion_matrix(labels, preds, labels=[0,1])\n",
        "print(\"\\nConfusion Matrix (labels=[0,1]):\\n\", cm)\n",
        "\n",
        "fig, ax = plt.subplots(figsize=(5,5))\n",
        "disp = ConfusionMatrixDisplay(confusion_matrix=cm, display_labels=[\"benign(0)\",\"phishing(1)\"])\n",
        "disp.plot(ax=ax, values_format=\"d\", colorbar=False)\n",
        "plt.title(\"Confusion Matrix — urlBERTcnn (your urlBERT.pt + vocab.txt)\")\n",
        "plt.tight_layout()\n",
        "plt.show()\n",
        "\n",
        "try:\n",
        "    fpr, tpr, thr = roc_curve(labels, probs)\n",
        "    plt.figure(figsize=(5,5))\n",
        "    plt.plot(fpr, tpr, label=f\"AUC={auc:.4f}\")\n",
        "    plt.plot([0,1],[0,1],'--')\n",
        "    plt.xlabel(\"False Positive Rate\"); plt.ylabel(\"True Positive Rate\")\n",
        "    plt.title(\"ROC — urlBERTcnn\")\n",
        "    plt.legend(loc=\"lower right\")\n",
        "    plt.tight_layout()\n",
        "    plt.show()\n",
        "except Exception:\n",
        "    print(\"ROC skipped (likely only one class present).\")"
      ],
      "metadata": {
        "colab": {
          "base_uri": "https://localhost:8080/",
          "height": 1000
        },
        "id": "ms8leQJk-qY2",
        "outputId": "0c932ab1-fb4c-4285-dfd3-103e24196b07"
      },
      "execution_count": 27,
      "outputs": [
        {
          "output_type": "stream",
          "name": "stderr",
          "text": [
            "/tmp/ipython-input-2559748218.py:14: FutureWarning: `torch.cuda.amp.autocast(args...)` is deprecated. Please use `torch.amp.autocast('cuda', args...)` instead.\n",
            "  with torch.cuda.amp.autocast(enabled=torch.cuda.is_available()):\n"
          ]
        },
        {
          "output_type": "stream",
          "name": "stdout",
          "text": [
            "\n",
            "=== FINAL TEST METRICS (group_dataset) ===\n",
            "Acc: 0.901137\n",
            "AUC: 0.966306\n",
            "Rec: 0.913386\n",
            "F1 : 0.902334\n",
            "\n",
            "Confusion Matrix (labels=[0,1]):\n",
            " [[1016  127]\n",
            " [  99 1044]]\n"
          ]
        },
        {
          "output_type": "display_data",
          "data": {
            "text/plain": [
              "<Figure size 500x500 with 1 Axes>"
            ],
            "image/png": "[encoded data removed]"
          },
          "metadata": {}
        },
        {
          "output_type": "display_data",
          "data": {
            "text/plain": [
              "<Figure size 500x500 with 1 Axes>"
            ],
            "image/png": "[encoded data removed]"
          },
          "metadata": {}
        }
      ]
    }
  ]
}