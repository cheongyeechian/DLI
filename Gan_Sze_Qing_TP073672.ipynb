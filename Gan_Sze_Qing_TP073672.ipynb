{
  "nbformat": 4,
  "nbformat_minor": 0,
  "metadata": {
    "colab": {
      "provenance": [],
      "authorship_tag": "ABX9TyO/s1xvZz4U2lhY5Q6UCYSN",
      "include_colab_link": true
    },
    "kernelspec": {
      "name": "python3",
      "display_name": "Python 3"
    },
    "language_info": {
      "name": "python"
    }
  },
  "cells": [
    {
      "cell_type": "markdown",
      "metadata": {
        "id": "view-in-github",
        "colab_type": "text"
      },
      "source": [
        "<a href=\"https://colab.research.google.com/github/cheongyeechian/DLI/blob/main/Gan_Sze_Qing_TP073672.ipynb\" target=\"_parent\"><img src=\"https://colab.research.google.com/assets/colab-badge.svg\" alt=\"Open In Colab\"/></a>"
      ]
    },
    {
      "cell_type": "code",
      "execution_count": null,
      "metadata": {
        "colab": {
          "base_uri": "https://localhost:8080/"
        },
        "id": "Xla6rRp2iimU",
        "outputId": "3f650817-72b0-4900-f725-fc7f1cc9cc15"
      },
      "outputs": [
        {
          "output_type": "stream",
          "name": "stdout",
          "text": [
            "Mounted at /content/drive\n",
            "\n",
            "\n",
            " Nearest Neighbors Algorithm Results \n",
            "Accuracy is :0.9227272727272727\n",
            "=========================================\n",
            "Precision Score: 0.9173166926677067\n",
            "=========================================\n",
            "Recall Score: 0.9483870967741935\n",
            "=========================================\n",
            "F1 Score: 0.9325931800158604\n",
            "=========================================\n",
            "Confusion Matrix: [[427  53]\n",
            " [ 32 588]]\n",
            "=========================================\n",
            "Model Parameters:\n",
            "  algorithm: auto\n",
            "  leaf_size: 30\n",
            "  metric: minkowski\n",
            "  metric_params: None\n",
            "  n_jobs: None\n",
            "  n_neighbors: 5\n",
            "  p: 2\n",
            "  weights: distance\n",
            "=========================================\n",
            "Inference Time: 0.063609 seconds\n",
            "=========================================\n"
          ]
        }
      ],
      "source": [
        "# train eshte skripta permes se ciles formohet .pkl fajlli pra classifier permes training\n",
        "\n",
        "# Connect to Google Drive\n",
        "from google.colab import drive\n",
        "drive.mount('/content/drive')\n",
        "\n",
        "# Set file path\n",
        "arff_path = '/content/drive/My Drive/Colab Notebooks/dataset.arff'\n",
        "\n",
        "import numpy as np\n",
        "import matplotlib.pyplot as plt\n",
        "\n",
        "from sklearn.neighbors import KNeighborsClassifier\n",
        "import joblib\n",
        "from sklearn.metrics import accuracy_score, precision_score, recall_score, confusion_matrix, f1_score\n",
        "from sklearn.preprocessing import StandardScaler\n",
        "\n",
        "labels = []\n",
        "data_file = open(arff_path).read()\n",
        "data_list = data_file.split('\\n')\n",
        "data = np.array(data_list)\n",
        "data1 = [i.split(',') for i in data]\n",
        "data1 = data1[0:-1]\n",
        "for i in data1:\n",
        "    labels.append(i[30])\n",
        "\n",
        "data1 = np.array(data1)\n",
        "features = data1[:, :-1]\n",
        "\n",
        "# Choose only the relevant features from the data set.\n",
        "features = features[:, [0, 1, 2, 3, 4, 5, 6, 8, 9, 11, 12, 13, 14, 15, 16, 17, 22, 23, 24, 25, 27, 29]]\n",
        "features = np.array(features).astype(float)\n",
        "\n",
        "# 90/10\n",
        "features_train = features[:9955]\n",
        "features_test = features[9955:]\n",
        "labels_train = labels[:9955]\n",
        "labels_test = labels[9955:]\n",
        "\n",
        "scaler = StandardScaler()\n",
        "features_train = scaler.fit_transform(features_train)\n",
        "features_test = scaler.transform(features_test)\n",
        "\n",
        "\n",
        "print(\"\\n\\n \"\"Nearest Neighbors Algorithm Results\"\" \")\n",
        "\n",
        "\n",
        "clf4 = KNeighborsClassifier(n_neighbors=5, weights='distance')\n",
        "clf4.fit(features_train, labels_train)\n",
        "predictions = clf4.predict(features_test)\n",
        "accuracy = accuracy_score(labels_test, predictions)\n",
        "\n",
        "labels_test = [int(i) for i in labels_test]\n",
        "predictions = [int(i) for i in predictions]\n",
        "\n",
        "precision_score_val = precision_score(labels_test, np.array(predictions))\n",
        "recall_score_val = recall_score(np.array(labels_test), np.array(predictions))\n",
        "f1 = f1_score(labels_test, predictions)\n",
        "confusion_matrix_val = confusion_matrix(np.array(labels_test), np.array(predictions))\n",
        "\n",
        "print(\"Accuracy is :\" + str(accuracy))\n",
        "print(\"=========================================\")\n",
        "print(\"Precision Score: \" + str(precision_score_val))\n",
        "print(\"=========================================\")\n",
        "print(\"Recall Score: \" + str(recall_score_val))\n",
        "print(\"=========================================\")\n",
        "print(\"F1 Score: \" + str(f1))\n",
        "print(\"=========================================\")\n",
        "print(\"Confusion Matrix: \" + str(confusion_matrix_val))\n",
        "print(\"=========================================\")\n",
        "\n",
        "\n",
        "print(\"Model Parameters:\")\n",
        "for param, value in clf4.get_params().items():\n",
        "    print(f\"  {param}: {value}\")\n",
        "print(\"=========================================\")\n",
        "\n",
        "\n",
        "# Inference Time\n",
        "import time\n",
        "start_time = time.time()\n",
        "_ = clf4.predict(features_test)\n",
        "inference_time = time.time() - start_time\n",
        "print(\"Inference Time: {:.6f} seconds\".format(inference_time))\n",
        "print(\"=========================================\")\n"
      ]
    }
  ]
}